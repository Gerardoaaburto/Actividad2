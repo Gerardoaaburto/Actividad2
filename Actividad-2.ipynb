{
 "cells": [
  {
   "cell_type": "code",
   "execution_count": 1,
   "metadata": {},
   "outputs": [],
   "source": [
    "import pandas as pd\n",
    "import numpy as np\n",
    "import matplotlib.pyplot as plt"
   ]
  },
  {
   "cell_type": "code",
   "execution_count": 2,
   "metadata": {},
   "outputs": [],
   "source": [
    "#Carga desde un archivo .xlsx sin indice\n",
    "data = pd.read_excel('Inmuebles2.xlsx')"
   ]
  },
  {
   "cell_type": "code",
   "execution_count": 3,
   "metadata": {},
   "outputs": [],
   "source": [
    "#Convertir DataFrame a CSV\n",
    "data.to_csv(\"Inmuebles2.csv\")"
   ]
  },
  {
   "cell_type": "code",
   "execution_count": null,
   "metadata": {},
   "outputs": [],
   "source": [
    "#Carga desde un archivo .csv sin indice\n",
    "data= pd.read_csv('Inmuebles2.csv') \n",
    "data"
   ]
  },
  {
   "cell_type": "code",
   "execution_count": null,
   "metadata": {},
   "outputs": [],
   "source": [
    "#Eliminar primera fila o filas innecesarias\n",
    "data1= pd.read_csv('Inmuebles2.csv', skiprows=1, low_memory=False)\n",
    "data1"
   ]
  },
  {
   "cell_type": "code",
   "execution_count": null,
   "metadata": {},
   "outputs": [],
   "source": [
    "#Eliminar columnas innecesarias\n",
    "data2= data1.drop(['0','Referencia'], axis=1)\n",
    "data2"
   ]
  },
  {
   "cell_type": "code",
   "execution_count": 7,
   "metadata": {},
   "outputs": [
    {
     "data": {
      "text/plain": [
       "Fecha Alta        2\n",
       "Tipo              2\n",
       "Operación         1\n",
       "Provincia         4\n",
       "Superficie        4\n",
       "Precio Venta      6\n",
       "Fecha Venta     578\n",
       "Vendedor        578\n",
       "dtype: int64"
      ]
     },
     "execution_count": 7,
     "metadata": {},
     "output_type": "execute_result"
    }
   ],
   "source": [
    "#Identificar valores nulos\n",
    "valores_nulos=data2.isnull().sum()\n",
    "valores_nulos"
   ]
  },
  {
   "cell_type": "code",
   "execution_count": 9,
   "metadata": {},
   "outputs": [],
   "source": [
    "#Realizamos una copia del dataframe\n",
    "data3=data2.copy()"
   ]
  },
  {
   "cell_type": "code",
   "execution_count": 23,
   "metadata": {},
   "outputs": [
    {
     "data": {
      "text/html": [
       "<div>\n",
       "<style scoped>\n",
       "    .dataframe tbody tr th:only-of-type {\n",
       "        vertical-align: middle;\n",
       "    }\n",
       "\n",
       "    .dataframe tbody tr th {\n",
       "        vertical-align: top;\n",
       "    }\n",
       "\n",
       "    .dataframe thead th {\n",
       "        text-align: right;\n",
       "    }\n",
       "</style>\n",
       "<table border=\"1\" class=\"dataframe\">\n",
       "  <thead>\n",
       "    <tr style=\"text-align: right;\">\n",
       "      <th></th>\n",
       "      <th>Fecha Alta</th>\n",
       "      <th>Tipo</th>\n",
       "      <th>Operación</th>\n",
       "      <th>Provincia</th>\n",
       "      <th>Superficie</th>\n",
       "      <th>Precio Venta</th>\n",
       "      <th>Fecha Venta</th>\n",
       "      <th>Vendedor</th>\n",
       "    </tr>\n",
       "  </thead>\n",
       "  <tbody>\n",
       "    <tr>\n",
       "      <th>0</th>\n",
       "      <td>2004-01-01 00:00:00</td>\n",
       "      <td>Parking</td>\n",
       "      <td>Alquiler</td>\n",
       "      <td>Lleida</td>\n",
       "      <td>291.0</td>\n",
       "      <td>2133903.0</td>\n",
       "      <td>2004-06-19 00:00:00</td>\n",
       "      <td>Carmen</td>\n",
       "    </tr>\n",
       "    <tr>\n",
       "      <th>1</th>\n",
       "      <td>2004-01-01 00:00:00</td>\n",
       "      <td>Local</td>\n",
       "      <td>Venta</td>\n",
       "      <td>Girona</td>\n",
       "      <td>185.0</td>\n",
       "      <td>1945424.0</td>\n",
       "      <td>2004-04-19 00:00:00</td>\n",
       "      <td>Pedro</td>\n",
       "    </tr>\n",
       "    <tr>\n",
       "      <th>2</th>\n",
       "      <td>2004-01-01 00:00:00</td>\n",
       "      <td>Oficina</td>\n",
       "      <td>Alquiler</td>\n",
       "      <td>Girona</td>\n",
       "      <td>82.0</td>\n",
       "      <td>NaN</td>\n",
       "      <td>2004-11-08 00:00:00</td>\n",
       "      <td>Joaquín</td>\n",
       "    </tr>\n",
       "    <tr>\n",
       "      <th>3</th>\n",
       "      <td>2004-01-02 00:00:00</td>\n",
       "      <td>Parking</td>\n",
       "      <td>Alquiler</td>\n",
       "      <td>Girona</td>\n",
       "      <td>285.0</td>\n",
       "      <td>NaN</td>\n",
       "      <td>2004-04-27 00:00:00</td>\n",
       "      <td>Jesús</td>\n",
       "    </tr>\n",
       "    <tr>\n",
       "      <th>4</th>\n",
       "      <td>2004-01-02 00:00:00</td>\n",
       "      <td>Suelo</td>\n",
       "      <td>Venta</td>\n",
       "      <td>Tarragona</td>\n",
       "      <td>152.0</td>\n",
       "      <td>185000.0</td>\n",
       "      <td>2004-07-10 00:00:00</td>\n",
       "      <td>María</td>\n",
       "    </tr>\n",
       "    <tr>\n",
       "      <th>...</th>\n",
       "      <td>...</td>\n",
       "      <td>...</td>\n",
       "      <td>...</td>\n",
       "      <td>...</td>\n",
       "      <td>...</td>\n",
       "      <td>...</td>\n",
       "      <td>...</td>\n",
       "      <td>...</td>\n",
       "    </tr>\n",
       "    <tr>\n",
       "      <th>3332</th>\n",
       "      <td>2007-04-29 00:00:00</td>\n",
       "      <td>Industrial</td>\n",
       "      <td>Alquiler</td>\n",
       "      <td>Lleida</td>\n",
       "      <td>221.0</td>\n",
       "      <td>1450644.0</td>\n",
       "      <td>NaN</td>\n",
       "      <td>NaN</td>\n",
       "    </tr>\n",
       "    <tr>\n",
       "      <th>3333</th>\n",
       "      <td>2007-04-29 00:00:00</td>\n",
       "      <td>Piso</td>\n",
       "      <td>Alquiler</td>\n",
       "      <td>Girona</td>\n",
       "      <td>55.0</td>\n",
       "      <td>454080.0</td>\n",
       "      <td>NaN</td>\n",
       "      <td>NaN</td>\n",
       "    </tr>\n",
       "    <tr>\n",
       "      <th>3334</th>\n",
       "      <td>2007-04-30 00:00:00</td>\n",
       "      <td>Suelo</td>\n",
       "      <td>Venta</td>\n",
       "      <td>Tarragona</td>\n",
       "      <td>78.0</td>\n",
       "      <td>740688.0</td>\n",
       "      <td>NaN</td>\n",
       "      <td>NaN</td>\n",
       "    </tr>\n",
       "    <tr>\n",
       "      <th>3335</th>\n",
       "      <td>2007-04-30 00:00:00</td>\n",
       "      <td>Piso</td>\n",
       "      <td>Alquiler</td>\n",
       "      <td>Barcelona</td>\n",
       "      <td>88.0</td>\n",
       "      <td>397408.0</td>\n",
       "      <td>NaN</td>\n",
       "      <td>NaN</td>\n",
       "    </tr>\n",
       "    <tr>\n",
       "      <th>3336</th>\n",
       "      <td>2007-04-30 00:00:00</td>\n",
       "      <td>Parking</td>\n",
       "      <td>Venta</td>\n",
       "      <td>Lleida</td>\n",
       "      <td>170.2</td>\n",
       "      <td>2140712.0</td>\n",
       "      <td>NaN</td>\n",
       "      <td>NaN</td>\n",
       "    </tr>\n",
       "  </tbody>\n",
       "</table>\n",
       "<p>3337 rows × 8 columns</p>\n",
       "</div>"
      ],
      "text/plain": [
       "               Fecha Alta        Tipo Operación  Provincia  Superficie  \\\n",
       "0     2004-01-01 00:00:00     Parking  Alquiler     Lleida       291.0   \n",
       "1     2004-01-01 00:00:00       Local     Venta     Girona       185.0   \n",
       "2     2004-01-01 00:00:00     Oficina  Alquiler     Girona        82.0   \n",
       "3     2004-01-02 00:00:00     Parking  Alquiler     Girona       285.0   \n",
       "4     2004-01-02 00:00:00       Suelo     Venta  Tarragona       152.0   \n",
       "...                   ...         ...       ...        ...         ...   \n",
       "3332  2007-04-29 00:00:00  Industrial  Alquiler     Lleida       221.0   \n",
       "3333  2007-04-29 00:00:00        Piso  Alquiler     Girona        55.0   \n",
       "3334  2007-04-30 00:00:00       Suelo     Venta  Tarragona        78.0   \n",
       "3335  2007-04-30 00:00:00        Piso  Alquiler  Barcelona        88.0   \n",
       "3336  2007-04-30 00:00:00     Parking     Venta     Lleida       170.2   \n",
       "\n",
       "      Precio Venta          Fecha Venta Vendedor  \n",
       "0        2133903.0  2004-06-19 00:00:00   Carmen  \n",
       "1        1945424.0  2004-04-19 00:00:00    Pedro  \n",
       "2              NaN  2004-11-08 00:00:00  Joaquín  \n",
       "3              NaN  2004-04-27 00:00:00    Jesús  \n",
       "4         185000.0  2004-07-10 00:00:00    María  \n",
       "...            ...                  ...      ...  \n",
       "3332     1450644.0                  NaN      NaN  \n",
       "3333      454080.0                  NaN      NaN  \n",
       "3334      740688.0                  NaN      NaN  \n",
       "3335      397408.0                  NaN      NaN  \n",
       "3336     2140712.0                  NaN      NaN  \n",
       "\n",
       "[3337 rows x 8 columns]"
      ]
     },
     "execution_count": 23,
     "metadata": {},
     "output_type": "execute_result"
    }
   ],
   "source": [
    "#Valores nulos con media\n",
    "data3[\"Superficie\"]=data3[\"Superficie\"].fillna(round(data2[\"Superficie\"].mean(),1))\n",
    "data3"
   ]
  },
  {
   "cell_type": "code",
   "execution_count": 24,
   "metadata": {},
   "outputs": [
    {
     "data": {
      "text/plain": [
       "Fecha Alta        2\n",
       "Tipo              2\n",
       "Operación         1\n",
       "Provincia         4\n",
       "Superficie        0\n",
       "Precio Venta      6\n",
       "Fecha Venta     578\n",
       "Vendedor        578\n",
       "dtype: int64"
      ]
     },
     "execution_count": 24,
     "metadata": {},
     "output_type": "execute_result"
    }
   ],
   "source": [
    "#Corroboramos valores nulos\n",
    "valores_nulos=data3.isnull().sum()\n",
    "valores_nulos"
   ]
  },
  {
   "cell_type": "code",
   "execution_count": 25,
   "metadata": {},
   "outputs": [
    {
     "data": {
      "text/html": [
       "<div>\n",
       "<style scoped>\n",
       "    .dataframe tbody tr th:only-of-type {\n",
       "        vertical-align: middle;\n",
       "    }\n",
       "\n",
       "    .dataframe tbody tr th {\n",
       "        vertical-align: top;\n",
       "    }\n",
       "\n",
       "    .dataframe thead th {\n",
       "        text-align: right;\n",
       "    }\n",
       "</style>\n",
       "<table border=\"1\" class=\"dataframe\">\n",
       "  <thead>\n",
       "    <tr style=\"text-align: right;\">\n",
       "      <th></th>\n",
       "      <th>Fecha Alta</th>\n",
       "      <th>Tipo</th>\n",
       "      <th>Operación</th>\n",
       "      <th>Provincia</th>\n",
       "      <th>Superficie</th>\n",
       "      <th>Precio Venta</th>\n",
       "      <th>Fecha Venta</th>\n",
       "      <th>Vendedor</th>\n",
       "    </tr>\n",
       "  </thead>\n",
       "  <tbody>\n",
       "    <tr>\n",
       "      <th>0</th>\n",
       "      <td>2004-01-01 00:00:00</td>\n",
       "      <td>Parking</td>\n",
       "      <td>Alquiler</td>\n",
       "      <td>Lleida</td>\n",
       "      <td>291.0</td>\n",
       "      <td>2133903.0</td>\n",
       "      <td>2004-06-19 00:00:00</td>\n",
       "      <td>Carmen</td>\n",
       "    </tr>\n",
       "    <tr>\n",
       "      <th>1</th>\n",
       "      <td>2004-01-01 00:00:00</td>\n",
       "      <td>Local</td>\n",
       "      <td>Venta</td>\n",
       "      <td>Girona</td>\n",
       "      <td>185.0</td>\n",
       "      <td>1945424.0</td>\n",
       "      <td>2004-04-19 00:00:00</td>\n",
       "      <td>Pedro</td>\n",
       "    </tr>\n",
       "    <tr>\n",
       "      <th>2</th>\n",
       "      <td>2004-01-01 00:00:00</td>\n",
       "      <td>Oficina</td>\n",
       "      <td>Alquiler</td>\n",
       "      <td>Girona</td>\n",
       "      <td>82.0</td>\n",
       "      <td>NaN</td>\n",
       "      <td>2004-11-08 00:00:00</td>\n",
       "      <td>Joaquín</td>\n",
       "    </tr>\n",
       "    <tr>\n",
       "      <th>3</th>\n",
       "      <td>2004-01-02 00:00:00</td>\n",
       "      <td>Parking</td>\n",
       "      <td>Alquiler</td>\n",
       "      <td>Girona</td>\n",
       "      <td>285.0</td>\n",
       "      <td>NaN</td>\n",
       "      <td>2004-04-27 00:00:00</td>\n",
       "      <td>Jesús</td>\n",
       "    </tr>\n",
       "    <tr>\n",
       "      <th>4</th>\n",
       "      <td>2004-01-02 00:00:00</td>\n",
       "      <td>Suelo</td>\n",
       "      <td>Venta</td>\n",
       "      <td>Tarragona</td>\n",
       "      <td>152.0</td>\n",
       "      <td>185000.0</td>\n",
       "      <td>2004-07-10 00:00:00</td>\n",
       "      <td>María</td>\n",
       "    </tr>\n",
       "    <tr>\n",
       "      <th>...</th>\n",
       "      <td>...</td>\n",
       "      <td>...</td>\n",
       "      <td>...</td>\n",
       "      <td>...</td>\n",
       "      <td>...</td>\n",
       "      <td>...</td>\n",
       "      <td>...</td>\n",
       "      <td>...</td>\n",
       "    </tr>\n",
       "    <tr>\n",
       "      <th>3332</th>\n",
       "      <td>2007-04-29 00:00:00</td>\n",
       "      <td>Industrial</td>\n",
       "      <td>Alquiler</td>\n",
       "      <td>Lleida</td>\n",
       "      <td>221.0</td>\n",
       "      <td>1450644.0</td>\n",
       "      <td>NaN</td>\n",
       "      <td>María</td>\n",
       "    </tr>\n",
       "    <tr>\n",
       "      <th>3333</th>\n",
       "      <td>2007-04-29 00:00:00</td>\n",
       "      <td>Piso</td>\n",
       "      <td>Alquiler</td>\n",
       "      <td>Girona</td>\n",
       "      <td>55.0</td>\n",
       "      <td>454080.0</td>\n",
       "      <td>NaN</td>\n",
       "      <td>María</td>\n",
       "    </tr>\n",
       "    <tr>\n",
       "      <th>3334</th>\n",
       "      <td>2007-04-30 00:00:00</td>\n",
       "      <td>Suelo</td>\n",
       "      <td>Venta</td>\n",
       "      <td>Tarragona</td>\n",
       "      <td>78.0</td>\n",
       "      <td>740688.0</td>\n",
       "      <td>NaN</td>\n",
       "      <td>María</td>\n",
       "    </tr>\n",
       "    <tr>\n",
       "      <th>3335</th>\n",
       "      <td>2007-04-30 00:00:00</td>\n",
       "      <td>Piso</td>\n",
       "      <td>Alquiler</td>\n",
       "      <td>Barcelona</td>\n",
       "      <td>88.0</td>\n",
       "      <td>397408.0</td>\n",
       "      <td>NaN</td>\n",
       "      <td>María</td>\n",
       "    </tr>\n",
       "    <tr>\n",
       "      <th>3336</th>\n",
       "      <td>2007-04-30 00:00:00</td>\n",
       "      <td>Parking</td>\n",
       "      <td>Venta</td>\n",
       "      <td>Lleida</td>\n",
       "      <td>170.2</td>\n",
       "      <td>2140712.0</td>\n",
       "      <td>NaN</td>\n",
       "      <td>María</td>\n",
       "    </tr>\n",
       "  </tbody>\n",
       "</table>\n",
       "<p>3337 rows × 8 columns</p>\n",
       "</div>"
      ],
      "text/plain": [
       "               Fecha Alta        Tipo Operación  Provincia  Superficie  \\\n",
       "0     2004-01-01 00:00:00     Parking  Alquiler     Lleida       291.0   \n",
       "1     2004-01-01 00:00:00       Local     Venta     Girona       185.0   \n",
       "2     2004-01-01 00:00:00     Oficina  Alquiler     Girona        82.0   \n",
       "3     2004-01-02 00:00:00     Parking  Alquiler     Girona       285.0   \n",
       "4     2004-01-02 00:00:00       Suelo     Venta  Tarragona       152.0   \n",
       "...                   ...         ...       ...        ...         ...   \n",
       "3332  2007-04-29 00:00:00  Industrial  Alquiler     Lleida       221.0   \n",
       "3333  2007-04-29 00:00:00        Piso  Alquiler     Girona        55.0   \n",
       "3334  2007-04-30 00:00:00       Suelo     Venta  Tarragona        78.0   \n",
       "3335  2007-04-30 00:00:00        Piso  Alquiler  Barcelona        88.0   \n",
       "3336  2007-04-30 00:00:00     Parking     Venta     Lleida       170.2   \n",
       "\n",
       "      Precio Venta          Fecha Venta Vendedor  \n",
       "0        2133903.0  2004-06-19 00:00:00   Carmen  \n",
       "1        1945424.0  2004-04-19 00:00:00    Pedro  \n",
       "2              NaN  2004-11-08 00:00:00  Joaquín  \n",
       "3              NaN  2004-04-27 00:00:00    Jesús  \n",
       "4         185000.0  2004-07-10 00:00:00    María  \n",
       "...            ...                  ...      ...  \n",
       "3332     1450644.0                  NaN    María  \n",
       "3333      454080.0                  NaN    María  \n",
       "3334      740688.0                  NaN    María  \n",
       "3335      397408.0                  NaN    María  \n",
       "3336     2140712.0                  NaN    María  \n",
       "\n",
       "[3337 rows x 8 columns]"
      ]
     },
     "execution_count": 25,
     "metadata": {},
     "output_type": "execute_result"
    }
   ],
   "source": [
    "#Sustituir valores nulos por valores no nulos hacia adelante forward fill\" (\"ffill\")\n",
    "data3[\"Vendedor\"] =data3[\"Vendedor\"].fillna(method=\"ffill\") \n",
    "data3"
   ]
  },
  {
   "cell_type": "code",
   "execution_count": 26,
   "metadata": {},
   "outputs": [
    {
     "data": {
      "text/plain": [
       "Fecha Alta        2\n",
       "Tipo              2\n",
       "Operación         1\n",
       "Provincia         4\n",
       "Superficie        0\n",
       "Precio Venta      6\n",
       "Fecha Venta     578\n",
       "Vendedor          0\n",
       "dtype: int64"
      ]
     },
     "execution_count": 26,
     "metadata": {},
     "output_type": "execute_result"
    }
   ],
   "source": [
    "#Corroboramos valores nulos\n",
    "valores_nulos=data3.isnull().sum()\n",
    "valores_nulos"
   ]
  },
  {
   "cell_type": "code",
   "execution_count": null,
   "metadata": {},
   "outputs": [],
   "source": [
    "#Sustituir valores nulos con un string en concreto\n",
    "data3['Fecha Alta'] = data3['Fecha Alta'].fillna(\"2004-01-01 00:00:00\")\n",
    "data3"
   ]
  },
  {
   "cell_type": "code",
   "execution_count": 29,
   "metadata": {},
   "outputs": [
    {
     "data": {
      "text/plain": [
       "Fecha Alta        0\n",
       "Tipo              2\n",
       "Operación         1\n",
       "Provincia         4\n",
       "Superficie        0\n",
       "Precio Venta      6\n",
       "Fecha Venta     578\n",
       "Vendedor          0\n",
       "dtype: int64"
      ]
     },
     "execution_count": 29,
     "metadata": {},
     "output_type": "execute_result"
    }
   ],
   "source": [
    "#Corroboramos valores nulos\n",
    "valores_nulos=data3.isnull().sum()\n",
    "valores_nulos"
   ]
  },
  {
   "cell_type": "code",
   "execution_count": null,
   "metadata": {},
   "outputs": [],
   "source": [
    "data3['Fecha Venta'] = data3['Fecha Venta'].fillna(\"2007-04-30 00:00:00\")\n",
    "data3"
   ]
  },
  {
   "cell_type": "code",
   "execution_count": null,
   "metadata": {},
   "outputs": [],
   "source": [
    "valores_nulos=data3.isnull().sum()\n",
    "valores_nulos"
   ]
  },
  {
   "cell_type": "code",
   "execution_count": 36,
   "metadata": {},
   "outputs": [
    {
     "data": {
      "text/html": [
       "<div>\n",
       "<style scoped>\n",
       "    .dataframe tbody tr th:only-of-type {\n",
       "        vertical-align: middle;\n",
       "    }\n",
       "\n",
       "    .dataframe tbody tr th {\n",
       "        vertical-align: top;\n",
       "    }\n",
       "\n",
       "    .dataframe thead th {\n",
       "        text-align: right;\n",
       "    }\n",
       "</style>\n",
       "<table border=\"1\" class=\"dataframe\">\n",
       "  <thead>\n",
       "    <tr style=\"text-align: right;\">\n",
       "      <th></th>\n",
       "      <th>Fecha Alta</th>\n",
       "      <th>Tipo</th>\n",
       "      <th>Operación</th>\n",
       "      <th>Provincia</th>\n",
       "      <th>Superficie</th>\n",
       "      <th>Precio Venta</th>\n",
       "      <th>Fecha Venta</th>\n",
       "      <th>Vendedor</th>\n",
       "    </tr>\n",
       "  </thead>\n",
       "  <tbody>\n",
       "    <tr>\n",
       "      <th>0</th>\n",
       "      <td>2004-01-01 00:00:00</td>\n",
       "      <td>Parking</td>\n",
       "      <td>Alquiler</td>\n",
       "      <td>Lleida</td>\n",
       "      <td>291.0</td>\n",
       "      <td>2133903.0</td>\n",
       "      <td>2004-06-19 00:00:00</td>\n",
       "      <td>Carmen</td>\n",
       "    </tr>\n",
       "    <tr>\n",
       "      <th>1</th>\n",
       "      <td>2004-01-01 00:00:00</td>\n",
       "      <td>Local</td>\n",
       "      <td>Venta</td>\n",
       "      <td>Girona</td>\n",
       "      <td>185.0</td>\n",
       "      <td>1945424.0</td>\n",
       "      <td>2004-04-19 00:00:00</td>\n",
       "      <td>Pedro</td>\n",
       "    </tr>\n",
       "    <tr>\n",
       "      <th>2</th>\n",
       "      <td>2004-01-01 00:00:00</td>\n",
       "      <td>Oficina</td>\n",
       "      <td>Alquiler</td>\n",
       "      <td>Girona</td>\n",
       "      <td>82.0</td>\n",
       "      <td>2000000.0</td>\n",
       "      <td>2004-11-08 00:00:00</td>\n",
       "      <td>Joaquín</td>\n",
       "    </tr>\n",
       "    <tr>\n",
       "      <th>3</th>\n",
       "      <td>2004-01-02 00:00:00</td>\n",
       "      <td>Parking</td>\n",
       "      <td>Alquiler</td>\n",
       "      <td>Girona</td>\n",
       "      <td>285.0</td>\n",
       "      <td>2000000.0</td>\n",
       "      <td>2004-04-27 00:00:00</td>\n",
       "      <td>Jesús</td>\n",
       "    </tr>\n",
       "    <tr>\n",
       "      <th>4</th>\n",
       "      <td>2004-01-02 00:00:00</td>\n",
       "      <td>Suelo</td>\n",
       "      <td>Venta</td>\n",
       "      <td>Tarragona</td>\n",
       "      <td>152.0</td>\n",
       "      <td>185000.0</td>\n",
       "      <td>2004-07-10 00:00:00</td>\n",
       "      <td>María</td>\n",
       "    </tr>\n",
       "    <tr>\n",
       "      <th>...</th>\n",
       "      <td>...</td>\n",
       "      <td>...</td>\n",
       "      <td>...</td>\n",
       "      <td>...</td>\n",
       "      <td>...</td>\n",
       "      <td>...</td>\n",
       "      <td>...</td>\n",
       "      <td>...</td>\n",
       "    </tr>\n",
       "    <tr>\n",
       "      <th>3332</th>\n",
       "      <td>2007-04-29 00:00:00</td>\n",
       "      <td>Industrial</td>\n",
       "      <td>Alquiler</td>\n",
       "      <td>Lleida</td>\n",
       "      <td>221.0</td>\n",
       "      <td>1450644.0</td>\n",
       "      <td>10</td>\n",
       "      <td>María</td>\n",
       "    </tr>\n",
       "    <tr>\n",
       "      <th>3333</th>\n",
       "      <td>2007-04-29 00:00:00</td>\n",
       "      <td>Piso</td>\n",
       "      <td>Alquiler</td>\n",
       "      <td>Girona</td>\n",
       "      <td>55.0</td>\n",
       "      <td>454080.0</td>\n",
       "      <td>10</td>\n",
       "      <td>María</td>\n",
       "    </tr>\n",
       "    <tr>\n",
       "      <th>3334</th>\n",
       "      <td>2007-04-30 00:00:00</td>\n",
       "      <td>Suelo</td>\n",
       "      <td>Venta</td>\n",
       "      <td>Tarragona</td>\n",
       "      <td>78.0</td>\n",
       "      <td>740688.0</td>\n",
       "      <td>10</td>\n",
       "      <td>María</td>\n",
       "    </tr>\n",
       "    <tr>\n",
       "      <th>3335</th>\n",
       "      <td>2007-04-30 00:00:00</td>\n",
       "      <td>Piso</td>\n",
       "      <td>Alquiler</td>\n",
       "      <td>Barcelona</td>\n",
       "      <td>88.0</td>\n",
       "      <td>397408.0</td>\n",
       "      <td>10</td>\n",
       "      <td>María</td>\n",
       "    </tr>\n",
       "    <tr>\n",
       "      <th>3336</th>\n",
       "      <td>2007-04-30 00:00:00</td>\n",
       "      <td>Parking</td>\n",
       "      <td>Venta</td>\n",
       "      <td>Lleida</td>\n",
       "      <td>170.2</td>\n",
       "      <td>2140712.0</td>\n",
       "      <td>10</td>\n",
       "      <td>María</td>\n",
       "    </tr>\n",
       "  </tbody>\n",
       "</table>\n",
       "<p>3337 rows × 8 columns</p>\n",
       "</div>"
      ],
      "text/plain": [
       "               Fecha Alta        Tipo Operación  Provincia  Superficie  \\\n",
       "0     2004-01-01 00:00:00     Parking  Alquiler     Lleida       291.0   \n",
       "1     2004-01-01 00:00:00       Local     Venta     Girona       185.0   \n",
       "2     2004-01-01 00:00:00     Oficina  Alquiler     Girona        82.0   \n",
       "3     2004-01-02 00:00:00     Parking  Alquiler     Girona       285.0   \n",
       "4     2004-01-02 00:00:00       Suelo     Venta  Tarragona       152.0   \n",
       "...                   ...         ...       ...        ...         ...   \n",
       "3332  2007-04-29 00:00:00  Industrial  Alquiler     Lleida       221.0   \n",
       "3333  2007-04-29 00:00:00        Piso  Alquiler     Girona        55.0   \n",
       "3334  2007-04-30 00:00:00       Suelo     Venta  Tarragona        78.0   \n",
       "3335  2007-04-30 00:00:00        Piso  Alquiler  Barcelona        88.0   \n",
       "3336  2007-04-30 00:00:00     Parking     Venta     Lleida       170.2   \n",
       "\n",
       "      Precio Venta          Fecha Venta Vendedor  \n",
       "0        2133903.0  2004-06-19 00:00:00   Carmen  \n",
       "1        1945424.0  2004-04-19 00:00:00    Pedro  \n",
       "2        2000000.0  2004-11-08 00:00:00  Joaquín  \n",
       "3        2000000.0  2004-04-27 00:00:00    Jesús  \n",
       "4         185000.0  2004-07-10 00:00:00    María  \n",
       "...            ...                  ...      ...  \n",
       "3332     1450644.0                   10    María  \n",
       "3333      454080.0                   10    María  \n",
       "3334      740688.0                   10    María  \n",
       "3335      397408.0                   10    María  \n",
       "3336     2140712.0                   10    María  \n",
       "\n",
       "[3337 rows x 8 columns]"
      ]
     },
     "execution_count": 36,
     "metadata": {},
     "output_type": "execute_result"
    }
   ],
   "source": [
    "#Sustituir valores nulos por un valor numérico en  concreto \n",
    "\n",
    "data3[\"Precio Venta\"]= data3[\"Precio Venta\"].fillna(1000000.0) \n",
    "data3"
   ]
  },
  {
   "cell_type": "code",
   "execution_count": 37,
   "metadata": {},
   "outputs": [
    {
     "data": {
      "text/plain": [
       "Fecha Alta      0\n",
       "Tipo            2\n",
       "Operación       1\n",
       "Provincia       4\n",
       "Superficie      0\n",
       "Precio Venta    0\n",
       "Fecha Venta     0\n",
       "Vendedor        0\n",
       "dtype: int64"
      ]
     },
     "execution_count": 37,
     "metadata": {},
     "output_type": "execute_result"
    }
   ],
   "source": [
    "valores_nulos=data3.isnull().sum()\n",
    "valores_nulos"
   ]
  },
  {
   "cell_type": "code",
   "execution_count": null,
   "metadata": {},
   "outputs": [],
   "source": [
    "#Sustituir valores nulos por valores no nulos hacia atrás backward fill\" (\"bfill\")\n",
    "data3[\"Provincia\"] =data3[\"Provincia\"].fillna(method=\"bfill\") \n",
    "data3"
   ]
  },
  {
   "cell_type": "code",
   "execution_count": 39,
   "metadata": {},
   "outputs": [
    {
     "data": {
      "text/plain": [
       "Fecha Alta      0\n",
       "Tipo            2\n",
       "Operación       1\n",
       "Provincia       0\n",
       "Superficie      0\n",
       "Precio Venta    0\n",
       "Fecha Venta     0\n",
       "Vendedor        0\n",
       "dtype: int64"
      ]
     },
     "execution_count": 39,
     "metadata": {},
     "output_type": "execute_result"
    }
   ],
   "source": [
    "valores_nulos=data3.isnull().sum()\n",
    "valores_nulos"
   ]
  },
  {
   "cell_type": "code",
   "execution_count": null,
   "metadata": {},
   "outputs": [],
   "source": [
    "#Sustituir valores nulos por valores no nulos hacia adelante  \"forward fill\" (\"ffill\")\n",
    "data3[\"Tipo\"] =data3[\"Tipo\"].fillna(method=\"ffill\") \n",
    "data3"
   ]
  },
  {
   "cell_type": "code",
   "execution_count": 41,
   "metadata": {},
   "outputs": [
    {
     "data": {
      "text/plain": [
       "Fecha Alta      0\n",
       "Tipo            0\n",
       "Operación       1\n",
       "Provincia       0\n",
       "Superficie      0\n",
       "Precio Venta    0\n",
       "Fecha Venta     0\n",
       "Vendedor        0\n",
       "dtype: int64"
      ]
     },
     "execution_count": 41,
     "metadata": {},
     "output_type": "execute_result"
    }
   ],
   "source": [
    "valores_nulos=data3.isnull().sum()\n",
    "valores_nulos"
   ]
  },
  {
   "cell_type": "code",
   "execution_count": null,
   "metadata": {},
   "outputs": [],
   "source": [
    "#Sustituir valores nulos por un string en  concreto \n",
    "data3['Operación'] = data3['Operación'].fillna(\"Don't know\")\n",
    "data3"
   ]
  },
  {
   "cell_type": "code",
   "execution_count": null,
   "metadata": {},
   "outputs": [],
   "source": [
    "valores_nulos=data3.isnull().sum()\n",
    "valores_nulos"
   ]
  },
  {
   "cell_type": "code",
   "execution_count": 44,
   "metadata": {},
   "outputs": [
    {
     "data": {
      "text/plain": [
       "0"
      ]
     },
     "execution_count": 44,
     "metadata": {},
     "output_type": "execute_result"
    }
   ],
   "source": [
    "#Obtenemos la cuenta de los elementos nulos del dataframe completo\n",
    "Cuenta_Total_Nulos= data3.isnull().sum().sum()\n",
    "Cuenta_Total_Nulos"
   ]
  },
  {
   "cell_type": "code",
   "execution_count": 46,
   "metadata": {},
   "outputs": [],
   "source": [
    "#Convertir DataFrame a CSV\n",
    "data3.to_csv(\"Inmuebles_sin_valores_NA.csv\")"
   ]
  },
  {
   "cell_type": "code",
   "execution_count": 47,
   "metadata": {},
   "outputs": [
    {
     "data": {
      "image/png": "[encoded data removed]",
      "text/plain": [
       "<Figure size 432x288 with 1 Axes>"
      ]
     },
     "metadata": {
      "needs_background": "light"
     },
     "output_type": "display_data"
    }
   ],
   "source": [
    "#Realizamos histograma de variables cuantitativas\n",
    "plt.hist(x=data3[\"Superficie\"], color='blue', rwidth=0.75)\n",
    "plt.title('Histograma de Superficies')\n",
    "plt.xlabel('Superficies')\n",
    "plt.ylabel('Frecuencia')\n",
    "\n",
    "plt.show() #dibujamos el histograma"
   ]
  },
  {
   "cell_type": "code",
   "execution_count": 48,
   "metadata": {},
   "outputs": [
    {
     "ename": "NameError",
     "evalue": "name 'hola' is not defined",
     "output_type": "error",
     "traceback": [
      "\u001b[0;31m---------------------------------------------------------------------------\u001b[0m",
      "\u001b[0;31mNameError\u001b[0m                                 Traceback (most recent call last)",
      "\u001b[1;32m/Users/GAC/Desktop/Actividad 2/Actividad2/Actividad-2.ipynb Celda 28\u001b[0m in \u001b[0;36m<cell line: 1>\u001b[0;34m()\u001b[0m\n\u001b[0;32m----> <a href='vscode-notebook-cell:/Users/GAC/Desktop/Actividad%202/Actividad2/Actividad-2.ipynb#X40sZmlsZQ%3D%3D?line=0'>1</a>\u001b[0m hola\n",
      "\u001b[0;31mNameError\u001b[0m: name 'hola' is not defined"
     ]
    }
   ],
   "source": [
    "hola"
   ]
  }
 ],
 "metadata": {
  "kernelspec": {
   "display_name": "Python 3.10.6 64-bit",
   "language": "python",
   "name": "python3"
  },
  "language_info": {
   "codemirror_mode": {
    "name": "ipython",
    "version": 3
   },
   "file_extension": ".py",
   "mimetype": "text/x-python",
   "name": "python",
   "nbconvert_exporter": "python",
   "pygments_lexer": "ipython3",
   "version": "3.10.6"
  },
  "orig_nbformat": 4,
  "vscode": {
   "interpreter": {
    "hash": "aee8b7b246df8f9039afb4144a1f6fd8d2ca17a180786b69acc140d282b71a49"
   }
  }
 },
 "nbformat": 4,
 "nbformat_minor": 2
}
